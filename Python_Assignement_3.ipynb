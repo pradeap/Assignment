{
 "cells": [
  {
   "cell_type": "markdown",
   "metadata": {},
   "source": [
    "### 1.1 Write a Python Program to implement your own myreduce() function which works exactly like Python's built-in function reduce()"
   ]
  },
  {
   "cell_type": "code",
   "execution_count": 194,
   "metadata": {},
   "outputs": [
    {
     "data": {
      "text/plain": [
       "100"
      ]
     },
     "execution_count": 194,
     "metadata": {},
     "output_type": "execute_result"
    }
   ],
   "source": [
    "from functools import reduce\n",
    "def do_sum (x1,x2): return x1+x2\n",
    "reduce(do_sum,[10,20,30,40])"
   ]
  },
  {
   "cell_type": "code",
   "execution_count": 157,
   "metadata": {},
   "outputs": [],
   "source": [
    "def my_reduce_add(seq):\n",
    "    out = 0   \n",
    "    for i in seq:\n",
    "        out = out+i\n",
    "    return out\n",
    "\n",
    "def my_reduce_mult(seq):\n",
    "    out = 1   \n",
    "    for i in seq:\n",
    "        out = out*i\n",
    "    return out\n",
    "        "
   ]
  },
  {
   "cell_type": "code",
   "execution_count": 161,
   "metadata": {},
   "outputs": [
    {
     "name": "stdout",
     "output_type": "stream",
     "text": [
      "185\n",
      "403958016\n"
     ]
    }
   ],
   "source": [
    "seq = [11,21,32,44,54,23]\n",
    "print(my_reduce_add(seq))\n",
    "print(my_reduce_mult(seq))"
   ]
  },
  {
   "cell_type": "code",
   "execution_count": 337,
   "metadata": {},
   "outputs": [],
   "source": [
    "def add(x1,x2):\n",
    "    return x1+x2\n",
    "def mult(x1,x2):\n",
    "    return x1*x2"
   ]
  },
  {
   "cell_type": "code",
   "execution_count": 338,
   "metadata": {},
   "outputs": [],
   "source": [
    "def my_reduce(func,seq):\n",
    "    if func == \"add\":\n",
    "        k = 0\n",
    "        for i in seq:\n",
    "            k  = add(i,k)\n",
    "        return k\n",
    "    if func == \"mult\":\n",
    "        k = 1\n",
    "        for i in seq:\n",
    "            k  = mult(i,k)\n",
    "        return k   "
   ]
  },
  {
   "cell_type": "code",
   "execution_count": 339,
   "metadata": {},
   "outputs": [
    {
     "name": "stdout",
     "output_type": "stream",
     "text": [
      "185\n",
      "403958016\n"
     ]
    }
   ],
   "source": [
    "s = [11,21,32,44,54,23]\n",
    "print(my_reduce(\"add\",s))\n",
    "print(my_reduce(\"mult\",s))\n"
   ]
  },
  {
   "cell_type": "markdown",
   "metadata": {},
   "source": [
    "### 1.2 Write a Python program to implement your own myfilter() function which works exactly like Python's built-in function filter()"
   ]
  },
  {
   "cell_type": "code",
   "execution_count": 7,
   "metadata": {},
   "outputs": [],
   "source": [
    "def my_filter(func,seq):\n",
    "    out=[]\n",
    "    for variable in seq :\n",
    "        if func(variable):\n",
    "            out.append(variable)\n",
    "    return out\n",
    "\n",
    "def is_even(item):\n",
    "    if item%2==0 :\n",
    "        return True\n",
    "    else :\n",
    "        return False"
   ]
  },
  {
   "cell_type": "code",
   "execution_count": 9,
   "metadata": {},
   "outputs": [
    {
     "name": "stdout",
     "output_type": "stream",
     "text": [
      "[2, 4, 6, 8, 10]\n"
     ]
    }
   ],
   "source": [
    "seq=[1,2,3,4,5,6,7,8,9,10]\n",
    "print(my_filter(is_even,seq))"
   ]
  },
  {
   "cell_type": "markdown",
   "metadata": {},
   "source": [
    "### 2. Implement List comprehensions to produce the following lists. Write List comprehensions to produce the following Lists"
   ]
  },
  {
   "cell_type": "code",
   "execution_count": 2,
   "metadata": {},
   "outputs": [
    {
     "name": "stdout",
     "output_type": "stream",
     "text": [
      "['x', 'xx', 'xxx', 'xxxx', 'y', 'yy', 'yyy', 'yyyy', 'z', 'zz', 'zzz', 'zzzz']\n"
     ]
    }
   ],
   "source": [
    "a = \"xyz\"\n",
    "b = []\n",
    "for i in a:\n",
    "    for j in range(1,5):\n",
    "        b.append(j*i)\n",
    "print (b)"
   ]
  },
  {
   "cell_type": "code",
   "execution_count": 1,
   "metadata": {},
   "outputs": [
    {
     "name": "stdout",
     "output_type": "stream",
     "text": [
      "['x', 'y', 'z', 'xx', 'yy', 'zz', 'xxx', 'yyy', 'zzz', 'xxxx', 'yyyy', 'zzzz']\n"
     ]
    }
   ],
   "source": [
    "a = \"xyz\"\n",
    "b = []\n",
    "for i in range(1,5):    \n",
    "    for j in a:\n",
    "        b.append(j*i)            \n",
    "print (b)"
   ]
  },
  {
   "cell_type": "code",
   "execution_count": 7,
   "metadata": {},
   "outputs": [
    {
     "name": "stdout",
     "output_type": "stream",
     "text": [
      "[[2], [3], [4], [3], [4], [5], [4], [5], [6], [2, 3, 4, 5], [3, 4, 5, 6], [4, 5, 6, 7], [5, 6, 7, 8]]\n"
     ]
    }
   ],
   "source": [
    "A = [[i + j for j in [0, 1, 2, 3]] for i in range(2, 6)]\n",
    "B = [[i + j] for j in [0, 1, 2] for i in range(2, 5)]\n",
    "print(B+A)"
   ]
  },
  {
   "cell_type": "code",
   "execution_count": 8,
   "metadata": {},
   "outputs": [
    {
     "data": {
      "text/plain": [
       "[(1, 1), (2, 1), (3, 1), (1, 2), (2, 2), (3, 2), (1, 3), (2, 3), (3, 3)]"
      ]
     },
     "execution_count": 8,
     "metadata": {},
     "output_type": "execute_result"
    }
   ],
   "source": [
    "[(y,x) for x in [1,2,3] for y in [1,2,3]]"
   ]
  },
  {
   "cell_type": "code",
   "execution_count": null,
   "metadata": {},
   "outputs": [],
   "source": []
  }
 ],
 "metadata": {
  "kernelspec": {
   "display_name": "Python 3",
   "language": "python",
   "name": "python3"
  },
  "language_info": {
   "codemirror_mode": {
    "name": "ipython",
    "version": 3
   },
   "file_extension": ".py",
   "mimetype": "text/x-python",
   "name": "python",
   "nbconvert_exporter": "python",
   "pygments_lexer": "ipython3",
   "version": "3.8.1"
  }
 },
 "nbformat": 4,
 "nbformat_minor": 4
}
